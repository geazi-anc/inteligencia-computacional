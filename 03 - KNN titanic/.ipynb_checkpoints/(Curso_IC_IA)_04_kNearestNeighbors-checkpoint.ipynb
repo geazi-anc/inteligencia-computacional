{
 "cells": [
  {
   "cell_type": "markdown",
   "metadata": {
    "id": "-ar1Z3FE-Ksh"
   },
   "source": [
    "## Aula 04 - K-Nearest Neighbors\n",
    "\n",
    "---\n",
    "\n",
    "Vamos iniciar carregando os dados, embaralhando as amostras, e separando 100 amostras para teste e 50 amostras para treino,"
   ]
  },
  {
   "cell_type": "code",
   "execution_count": null,
   "metadata": {
    "id": "MZjrBSGw-Ksj"
   },
   "outputs": [],
   "source": [
    "import numpy as np\n",
    "import pandas as pd\n",
    "\n",
    "df_dataset = pd.read_csv('iris.csv', sep=',', index_col=None)"
   ]
  },
  {
   "cell_type": "code",
   "execution_count": null,
   "metadata": {
    "id": "-KZVFQri-Ksl"
   },
   "outputs": [],
   "source": [
    "df_dataset.head()"
   ]
  },
  {
   "cell_type": "code",
   "execution_count": null,
   "metadata": {
    "id": "WhcWzCqk-Ksl"
   },
   "outputs": [],
   "source": [
    "from sklearn.utils import shuffle\n",
    "df_dataset = shuffle(df_dataset, random_state=42)"
   ]
  },
  {
   "cell_type": "code",
   "execution_count": null,
   "metadata": {
    "id": "_pkl8wxN-Ksl"
   },
   "outputs": [],
   "source": [
    "df_dataset.head()"
   ]
  },
  {
   "cell_type": "code",
   "execution_count": null,
   "metadata": {
    "id": "KxiJ9PLS-Ksm"
   },
   "outputs": [],
   "source": [
    "treino = df_dataset[:100].values\n",
    "teste = df_dataset[100:].values\n",
    "\n",
    "print(treino.shape)\n",
    "print(teste.shape)"
   ]
  },
  {
   "cell_type": "markdown",
   "metadata": {
    "id": "ywkNBctU-Ksm"
   },
   "source": [
    "---\n",
    "\n",
    "Em seguida, vamos dar início à implementação do algoritmo KNN. O algoritmo funciona basicamente nas seguintes etapas:\n",
    "\n",
    "- Calcular a distância de uma amostra para todas as demais;\n",
    "- Pegar as n amostras mais próximas;\n",
    "- Computar qual a classe mais frequente."
   ]
  },
  {
   "cell_type": "markdown",
   "metadata": {
    "id": "-nXRYEHq-Ksm"
   },
   "source": [
    "### Calculando a distância"
   ]
  },
  {
   "cell_type": "code",
   "execution_count": null,
   "metadata": {
    "id": "fbRMP15O-Ksm"
   },
   "outputs": [],
   "source": [
    "amostra_teste = teste[0,:4]\n",
    "amostra_treino = treino[0,:4]\n",
    "\n",
    "distancia = np.sum((amostra_treino - amostra_teste) ** 2) ** 0.5\n",
    "print(\"Distância entre duas amostras quaisquer:\", distancia)"
   ]
  },
  {
   "cell_type": "markdown",
   "metadata": {
    "id": "SWGgCVkn-Ksn"
   },
   "source": [
    "Também é possível calcular a distância para todas as amostras de uma só vez."
   ]
  },
  {
   "cell_type": "code",
   "execution_count": null,
   "metadata": {
    "id": "zkoyU22c-Ksn"
   },
   "outputs": [],
   "source": [
    "distancias = np.sum((amostra_teste - treino[:,:4]) ** 2, axis=1) ** 0.5\n",
    "print(\"Distâncias de uma amostra de teste para todas as amostras de treino:\")\n",
    "print(distancias)"
   ]
  },
  {
   "cell_type": "markdown",
   "metadata": {
    "id": "3QSKUPBh-Ksn"
   },
   "source": [
    "---\n",
    "\n",
    "Em seguida, escolhemos quantos vizinhos vamos considerar e escolhemos os mais próximos da amostra avaliada.\n",
    "A partir dos índices encontrados, calculamos qual é a classe mais frequente e atribuímos à amostra."
   ]
  },
  {
   "cell_type": "code",
   "execution_count": null,
   "metadata": {
    "id": "o4XTXqTI-Kso"
   },
   "outputs": [],
   "source": [
    "k = 5\n",
    "indices = distancias.argsort()[:k]\n",
    "print(\"Indices dos vizinhos mais próximos:\", indices)"
   ]
  },
  {
   "cell_type": "code",
   "execution_count": null,
   "metadata": {
    "id": "4yEe5IGf-Kso"
   },
   "outputs": [],
   "source": [
    "from collections import Counter\n",
    "\n",
    "vizinhos = treino[indices,4]\n",
    "print(\"Vizinhos mais próximos:\", vizinhos)\n",
    "classe = Counter(vizinhos).most_common(1)[0][0]\n",
    "print(\"Classe mais frequente e quantidade:\", Counter(vizinhos).most_common(1))"
   ]
  },
  {
   "cell_type": "markdown",
   "metadata": {
    "id": "85AW5DTx-Kso"
   },
   "source": [
    "---\n",
    "\n",
    "Para verificar se a classe encontrada pelo modelo está correta, basta comparar a saída com o rótulo da amostra."
   ]
  },
  {
   "cell_type": "code",
   "execution_count": null,
   "metadata": {
    "id": "WhhiKw1V-Kso"
   },
   "outputs": [],
   "source": [
    "classe_certa = teste[0, 4]\n",
    "print(classe_certa)\n",
    "if classe_certa == classe:\n",
    "    print(\"Correto\")\n",
    "else:\n",
    "    print(\"Errado\")"
   ]
  },
  {
   "cell_type": "markdown",
   "metadata": {
    "id": "xgmyJ-fb-Ksp"
   },
   "source": [
    "---\n",
    "\n",
    "## Exercícios\n",
    "\n",
    "### Utilizando as funções do scikit-learn para separar dados e treinar automaticamente o KNN, implemente as duas variações do Edit-KNN (para reduzir a base de dados). Em seguida, avalie o tamanho da base e o resultado de acurácia:"
   ]
  },
  {
   "cell_type": "code",
   "execution_count": null,
   "metadata": {
    "id": "0BYZ8xZG-Ksp"
   },
   "outputs": [],
   "source": [
    "# implemente seu código aqui"
   ]
  },
  {
   "cell_type": "markdown",
   "metadata": {
    "id": "4_E33wdJG7Ij"
   },
   "source": [
    "---\n",
    "\n",
    "## Solução:"
   ]
  },
  {
   "cell_type": "code",
   "execution_count": 4,
   "metadata": {
    "id": "8tGbR1tpG_Lz"
   },
   "outputs": [],
   "source": [
    "import pandas as pd\n",
    "from sklearn.model_selection import train_test_split\n",
    "\n",
    "df = pd.read_csv('iris.csv')\n",
    "X = df.drop(columns=['classe'])\n",
    "y = df.classe\n",
    "\n",
    "X_train, X_test, y_train, y_test = train_test_split(\n",
    "    X, y, test_size=0.33, random_state=42)"
   ]
  },
  {
   "cell_type": "code",
   "execution_count": 32,
   "metadata": {
    "colab": {
     "base_uri": "https://localhost:8080/"
    },
    "id": "iNSRSXf3IW68",
    "outputId": "90f38b11-bccb-4845-97d2-802ba25feaa7"
   },
   "outputs": [
    {
     "name": "stdout",
     "output_type": "stream",
     "text": [
      "Quantas amostras de treino sobraram: 9\n",
      "Acurácia: 84.0\n"
     ]
    }
   ],
   "source": [
    "# ELIMINACAO SEQUENCIAL\n",
    "\n",
    "import warnings\n",
    "warnings.filterwarnings(\"ignore\")\n",
    "\n",
    "import numpy as np\n",
    "from sklearn.neighbors import KNeighborsClassifier\n",
    "\n",
    "# cria um vetor que vai auxiliar a identificar quais registros são considerados\n",
    "# no treino e quais não são, como se fosse um filtro\n",
    "indices = []\n",
    "for _ in range(len(X_train)):\n",
    "  indices.append(True)\n",
    "\n",
    "# faz a logica de tentar eliminar cada registro e ver se está correto\n",
    "for i in range(len(X_train)):\n",
    "  indices[i] = False\n",
    "  model = KNeighborsClassifier(n_neighbors = 1)\n",
    "  model.fit(X_train[indices], y_train[indices])\n",
    "\n",
    "  pred = model.predict([X_train.values[i]])\n",
    "  if pred != y_train.values[i]:\n",
    "    indices[i] = True\n",
    "\n",
    "print(\"Quantas amostras de treino sobraram:\", len(X_train[indices]))\n",
    "\n",
    "# calcula o resultado final depois da redução\n",
    "\n",
    "model = KNeighborsClassifier(n_neighbors = 1)\n",
    "model.fit(X_train[indices], y_train[indices])\n",
    "pred = model.predict(X_test)\n",
    "\n",
    "print(\"Acurácia:\", (pred == y_test).sum() / len(X_test) * 100)\n"
   ]
  },
  {
   "cell_type": "code",
   "execution_count": 36,
   "metadata": {
    "colab": {
     "base_uri": "https://localhost:8080/"
    },
    "id": "_HAkcEBqOQDS",
    "outputId": "5c39b5e6-acff-438b-904e-3de5aaf427e0"
   },
   "outputs": [
    {
     "name": "stdout",
     "output_type": "stream",
     "text": [
      "Quantas amostras de treino sobraram: 14\n",
      "Acurácia: 98.0\n"
     ]
    }
   ],
   "source": [
    "# INSERCAO SEQUENCIAL\n",
    "\n",
    "import warnings\n",
    "warnings.filterwarnings(\"ignore\")\n",
    "\n",
    "import numpy as np\n",
    "from sklearn.neighbors import KNeighborsClassifier\n",
    "\n",
    "# cria um vetor que vai auxiliar a identificar quais registros são considerados\n",
    "# no treino e quais não são, como se fosse um filtro\n",
    "indices = []\n",
    "for _ in range(len(X_train)):\n",
    "  indices.append(False)\n",
    "\n",
    "# inclui a primeira amostra ja que o modelo nunca vai acertar\n",
    "indices[0] = True\n",
    "\n",
    "# faz a logica de tentar inserir cada registro e ver se está correto\n",
    "for i in range(1,len(X_train)):\n",
    "  model = KNeighborsClassifier(n_neighbors = 1)\n",
    "  model.fit(X_train[indices], y_train[indices])\n",
    "\n",
    "  pred = model.predict([X_train.values[i]])\n",
    "  if pred != y_train.values[i]:\n",
    "    indices[i] = True\n",
    "\n",
    "print(\"Quantas amostras de treino sobraram:\", len(X_train[indices]))\n",
    "\n",
    "# calcula o resultado final depois das insercoes\n",
    "\n",
    "model = KNeighborsClassifier(n_neighbors = 1)\n",
    "model.fit(X_train[indices], y_train[indices])\n",
    "pred = model.predict(X_test)\n",
    "\n",
    "print(\"Acurácia:\", (pred == y_test).sum() / len(X_test) * 100)\n"
   ]
  }
 ],
 "metadata": {
  "anaconda-cloud": {},
  "colab": {
   "name": "(Curso_IC_IA)_04_kNearestNeighbors.ipynb",
   "provenance": []
  },
  "kernelspec": {
   "display_name": "Python 3 (ipykernel)",
   "language": "python",
   "name": "python3"
  },
  "language_info": {
   "codemirror_mode": {
    "name": "ipython",
    "version": 3
   },
   "file_extension": ".py",
   "mimetype": "text/x-python",
   "name": "python",
   "nbconvert_exporter": "python",
   "pygments_lexer": "ipython3",
   "version": "3.10.2"
  }
 },
 "nbformat": 4,
 "nbformat_minor": 1
}
