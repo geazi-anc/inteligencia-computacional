{
 "cells": [
  {
   "cell_type": "code",
   "execution_count": 1,
   "metadata": {},
   "outputs": [],
   "source": [
    "import pandas as pd\n",
    "from collections import Counter\n",
    "\n",
    "df = pd.read_csv(\"titanic.data\")\n",
    "df['Prevision'] = ''\n"
   ]
  },
  {
   "cell_type": "code",
   "execution_count": 2,
   "metadata": {},
   "outputs": [],
   "source": [
    "# convertendo os sexos para números\n",
    "# Sex='female'=0\n",
    "# Sex='male'=1\n",
    "\n",
    "df.loc[df['Sex'] == 'female', ['Sex']] = 0\n",
    "df.loc[df['Sex'] == 'male', ['Sex']] = 1\n",
    "\n",
    "# depois disso, precisa-se fazer a conversão explícita da coluna 'Sex' para o tipo int64\n",
    "df['Sex'] = df['Sex'].astype(\"int64\")\n"
   ]
  },
  {
   "cell_type": "code",
   "execution_count": null,
   "metadata": {},
   "outputs": [],
   "source": [
    "m# Agora que a coluna Sex foi convertido para um número, fazer a correlação entre Survived e Sex\n",
    "df_corr = df\n",
    "#print(df_corr.corr())\n"
   ]
  },
  {
   "cell_type": "code",
   "execution_count": null,
   "metadata": {},
   "outputs": [],
   "source": [
    "# agora vemos qual é a Pclass que mais morreram mulheres\n",
    "female = df[df['Sex'] == 0]\n",
    "\n",
    "no_survived = female[female['Survived'] == 0]\n",
    "print(Counter(no_survived['Pclass']))\n",
    "\n",
    "# concluímos que foi a Pclass=3 que morreram mais mulheres\n",
    "# agora, vemos a descrição da idade entre as mulheres da Pclass=3 que morreram\n",
    "no_survived_pclass3 = no_survived[no_survived['Pclass'] == 3]\n",
    "print(no_survived_pclass3['Age'].describe())\n"
   ]
  },
  {
   "cell_type": "code",
   "execution_count": 3,
   "metadata": {},
   "outputs": [],
   "source": [
    "# fazendo a previsão de quem sobreviveu\n",
    "# todos os homens recebem a Prevision=0, ou seja, não sobreviveram\n",
    "# e todas as mulheres recebem a Prevision=1, ou seja, sobreviveram\n",
    "df['Prevision'] = ''\n",
    "\n",
    "df.loc[df['Sex'] == 1, ['Prevision']] = 0\n",
    "df.loc[df['Sex'] == 0, ['Prevision']] = 1\n",
    "\n",
    "# como foi visto anteriormente, a pclass que mais morreram mulheres foi a Pclass=3\n",
    "# e a média foi de 23 anos, e a maior de 48 anos\n",
    "# portanto, todas as mulheres da Pclass=3 entre 23 e 48 anos morreram\n",
    "df.loc[(df['Sex'] == 0) & (df['Pclass'] == 3) & (\n",
    "    df['Age'] >= 23) & (df['Age'] <= 48), ['Prevision']] = 0\n"
   ]
  },
  {
   "cell_type": "code",
   "execution_count": 4,
   "metadata": {},
   "outputs": [
    {
     "name": "stdout",
     "output_type": "stream",
     "text": [
      "79.7979797979798\n"
     ]
    }
   ],
   "source": [
    "# acurácia da previsão\n",
    "df2 = df[df['Survived'] == df['Prevision']]\n",
    "\n",
    "survived = df['Survived'].count()\n",
    "prevision = df2['Prevision'].count()\n",
    "accuracy=100*(prevision/survived)\n",
    "\n",
    "print(accuracy)\n"
   ]
  }
 ],
 "metadata": {
  "interpreter": {
   "hash": "71ca702da658273e6ea9a3edb792e0de5ca1d63c011ee28874cb33b04c75b925"
  },
  "kernelspec": {
   "display_name": "Python 3.10.2 64-bit",
   "language": "python",
   "name": "python3"
  },
  "language_info": {
   "codemirror_mode": {
    "name": "ipython",
    "version": 3
   },
   "file_extension": ".py",
   "mimetype": "text/x-python",
   "name": "python",
   "nbconvert_exporter": "python",
   "pygments_lexer": "ipython3",
   "version": "3.10.2"
  },
  "orig_nbformat": 4
 },
 "nbformat": 4,
 "nbformat_minor": 2
}
