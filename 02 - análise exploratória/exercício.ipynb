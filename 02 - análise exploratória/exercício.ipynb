{
 "cells": [
  {
   "cell_type": "code",
   "execution_count": 91,
   "metadata": {},
   "outputs": [],
   "source": [
    "import pandas as pd\n",
    "from collections import Counter\n",
    "\n",
    "df = pd.read_csv(\"titanic.data\")\n",
    "df['Prevision'] = ''\n"
   ]
  },
  {
   "cell_type": "code",
   "execution_count": 94,
   "metadata": {},
   "outputs": [],
   "source": [
    "# convertendo os sexos para números\n",
    "# Sex='female'=0\n",
    "# Sex='male'=1\n",
    "\n",
    "df.loc[df['Sex'] == 'female', ['Sex']] = 0\n",
    "df.loc[df['Sex'] == 'male', ['Sex']] = 1\n",
    "\n",
    "# depois disso, precisa-se fazer a conversão explícita da coluna 'Sex' para o tipo int64\n",
    "df['Sex'] = df['Sex'].astype(\"int64\")\n"
   ]
  },
  {
   "cell_type": "code",
   "execution_count": 186,
   "metadata": {},
   "outputs": [
    {
     "name": "stdout",
     "output_type": "stream",
     "text": [
      "             PassengerId  Survived    Pclass       Sex       Age     SibSp  \\\n",
      "PassengerId     1.000000 -0.005007 -0.035144  0.042939  0.036847 -0.057527   \n",
      "Survived       -0.005007  1.000000 -0.338481 -0.543351 -0.077221 -0.035322   \n",
      "Pclass         -0.035144 -0.338481  1.000000  0.131900 -0.369226  0.083081   \n",
      "Sex             0.042939 -0.543351  0.131900  1.000000  0.093254 -0.114631   \n",
      "Age             0.036847 -0.077221 -0.369226  0.093254  1.000000 -0.308247   \n",
      "SibSp          -0.057527 -0.035322  0.083081 -0.114631 -0.308247  1.000000   \n",
      "Parch          -0.001652  0.081629  0.018443 -0.245489 -0.189119  0.414838   \n",
      "Fare            0.012658  0.257307 -0.549500 -0.182333  0.096067  0.159651   \n",
      "\n",
      "                Parch      Fare  \n",
      "PassengerId -0.001652  0.012658  \n",
      "Survived     0.081629  0.257307  \n",
      "Pclass       0.018443 -0.549500  \n",
      "Sex         -0.245489 -0.182333  \n",
      "Age         -0.189119  0.096067  \n",
      "SibSp        0.414838  0.159651  \n",
      "Parch        1.000000  0.216225  \n",
      "Fare         0.216225  1.000000  \n"
     ]
    }
   ],
   "source": [
    "# Agora que a coluna Sex foi convertido para um número, fazer a correlação entre Survived e Sex\n",
    "df_corr = df\n",
    "print(df_corr.corr())\n"
   ]
  },
  {
   "cell_type": "code",
   "execution_count": 183,
   "metadata": {},
   "outputs": [],
   "source": [
    "# fazendo a previsão de quem sobreviveu\n",
    "# todos os homens recebem a Prevision=0, ou seja, não sobreviveram\n",
    "# e todas as mulheres recebem a Prevision=1, ou seja, sobreviveram\n",
    "df['Prevision'] = ''\n",
    "\n",
    "df.loc[df['Sex'] == 1, ['Prevision']] = 0\n",
    "df.loc[df['Sex'] == 0, ['Prevision']] = 1\n"
   ]
  },
  {
   "cell_type": "code",
   "execution_count": 184,
   "metadata": {},
   "outputs": [
    {
     "name": "stdout",
     "output_type": "stream",
     "text": [
      "78.67564534231201\n"
     ]
    }
   ],
   "source": [
    "# acurácia da previsão\n",
    "df2 = df[df['Survived'] == df['Prevision']]\n",
    "\n",
    "survived = df['Survived'].count()\n",
    "prevision = df2['Prevision'].count()\n",
    "accuracy=100*(prevision/survived)\n",
    "\n",
    "print(accuracy)\n"
   ]
  }
 ],
 "metadata": {
  "interpreter": {
   "hash": "71ca702da658273e6ea9a3edb792e0de5ca1d63c011ee28874cb33b04c75b925"
  },
  "kernelspec": {
   "display_name": "Python 3.10.2 64-bit",
   "language": "python",
   "name": "python3"
  },
  "language_info": {
   "codemirror_mode": {
    "name": "ipython",
    "version": 3
   },
   "file_extension": ".py",
   "mimetype": "text/x-python",
   "name": "python",
   "nbconvert_exporter": "python",
   "pygments_lexer": "ipython3",
   "version": "3.10.2"
  },
  "orig_nbformat": 4
 },
 "nbformat": 4,
 "nbformat_minor": 2
}
