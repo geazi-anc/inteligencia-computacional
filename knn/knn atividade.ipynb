{
 "cells": [
  {
   "cell_type": "code",
   "execution_count": 5,
   "metadata": {},
   "outputs": [
    {
     "data": {
      "text/plain": [
       "(8, 3)"
      ]
     },
     "execution_count": 5,
     "metadata": {},
     "output_type": "execute_result"
    }
   ],
   "source": [
    "import pandas as pd\n",
    "from math import sqrt\n",
    "\n",
    "df = pd.read_csv('dataset.csv')\n",
    "df.shape\n"
   ]
  },
  {
   "cell_type": "code",
   "execution_count": 42,
   "metadata": {},
   "outputs": [],
   "source": [
    "##### FUNCTIONS DEFINITION #####\n",
    "def get_distance(row, new_classe=None):\n",
    "    \"\"\"Calcula a distância entre duas classes\"\"\"\n",
    "\n",
    "    distance = sqrt(pow(row['L']-new_classe['L'], 2) +\n",
    "                    pow(row['P']-new_classe['P'], 2))\n",
    "\n",
    "    row['Distance'] = distance\n",
    "    return row\n",
    "\n",
    "\n",
    "def classify(distances_df, k):\n",
    "    \"\"\"Retorna a moda das distâncias passadas no argumento distance_df.\"\"\"\n",
    "\n",
    "    # ordena o dataframe pela coluna Distance\n",
    "    distances_df = distances_df.sort_values('Distance')\n",
    "\n",
    "    # depois pega K linhas do dataframe\n",
    "    distances_df = distances_df.head(k)\n",
    "\n",
    "    # se K for igual a 2, retorna a primeira classe do dataframe, que é a classe com a menor distância\n",
    "    if k == 2:\n",
    "        classe_mode = distances_df.head(1).squeeze()['Classe']\n",
    "\n",
    "    # caso K não seja igual a 2, faz a moda da coluna Classe\n",
    "    else:\n",
    "        classe_mode = distances_df['Classe'].mode()[0]\n",
    "\n",
    "    return classe_mode\n"
   ]
  },
  {
   "cell_type": "code",
   "execution_count": 43,
   "metadata": {},
   "outputs": [
    {
     "name": "stdout",
     "output_type": "stream",
     "text": [
      "  k1 k2 k3\n",
      "0  A  A  A\n",
      "1  A  A  A\n",
      "2  B  B  B\n",
      "3  B  B  B\n"
     ]
    }
   ],
   "source": [
    "# novas classes a serem preditas\n",
    "new_classes = [\n",
    "    pd.Series({'L': 10, 'P': 10}),\n",
    "    pd.Series({'L': 10, 'P': 15}),\n",
    "    pd.Series({'L': 20, 'P': 12}),\n",
    "    pd.Series({'L': 25, 'P': 10})\n",
    "]\n",
    "\n",
    "# lista de K\n",
    "k_list = []\n",
    "\n",
    "\n",
    "# iterando na lista new_classes\n",
    "for new_classe in new_classes:\n",
    "\n",
    "    # calculando individualmente a distância euclidiana para cada classe dentro da lista new_classes\n",
    "    distances_df = df.apply(get_distance, new_classe=new_classe, axis=1)\n",
    "\n",
    "    # pegando a moda de cada classe em k=1, 2, 3\n",
    "    k1 = classify(distances_df=distances_df, k=1)\n",
    "    k2 = classify(distances_df=distances_df, k=2)\n",
    "    k3 = classify(distances_df=distances_df, k=3)\n",
    "\n",
    "    k_list.append({'k1': k1, 'k2': k2, 'k3': k3})\n",
    "\n",
    "# criando um dataframe com os K anteriormente pegos\n",
    "df2 = pd.DataFrame(data=k_list)\n",
    "print(df2)\n"
   ]
  }
 ],
 "metadata": {
  "interpreter": {
   "hash": "71ca702da658273e6ea9a3edb792e0de5ca1d63c011ee28874cb33b04c75b925"
  },
  "kernelspec": {
   "display_name": "Python 3.10.2 64-bit",
   "language": "python",
   "name": "python3"
  },
  "language_info": {
   "codemirror_mode": {
    "name": "ipython",
    "version": 3
   },
   "file_extension": ".py",
   "mimetype": "text/x-python",
   "name": "python",
   "nbconvert_exporter": "python",
   "pygments_lexer": "ipython3",
   "version": "3.10.2"
  },
  "orig_nbformat": 4
 },
 "nbformat": 4,
 "nbformat_minor": 2
}
