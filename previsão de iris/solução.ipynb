{
 "cells": [
  {
   "cell_type": "code",
   "execution_count": 1,
   "metadata": {},
   "outputs": [
    {
     "data": {
      "text/plain": [
       "(150, 6)"
      ]
     },
     "execution_count": 1,
     "metadata": {},
     "output_type": "execute_result"
    }
   ],
   "source": [
    "# importando a classe pandas, criando um objeto dataframe com os dados no arquivo 'iris.csv', e adicionando uma coluna em branco chamada 'previsao'\n",
    "import pandas as pd\n",
    "\n",
    "df = pd.read_csv('iris.csv')\n",
    "df['previsao'] = ''\n",
    "\n",
    "# armazenando na variável 'columns' as colunas que apresentam os dados de cada espécie\n",
    "columns = ['comprimento_sepala', 'largura_sepala',\n",
    "           'comprimento_petala', 'largura_petala']\n",
    "\n",
    "df.shape\n"
   ]
  },
  {
   "cell_type": "markdown",
   "metadata": {},
   "source": [
    "## Método de Classificação\n",
    "\n",
    "Primeiramente, é necessário determinar o método de classificação das espécies. Isso é feito com base na coluna que apresenta a menor variação em seus dados.\n",
    "\n",
    "A variação, nessa lógica, é determinado pelo maior dado na coluna subitraído do menor dado da coluna. Com isso, o menor desses resultados indica a coluna que apresenta a menor variação em seus dados.\n",
    "\n",
    "Neste exemplo, a coluna que apresenta a menor variação é a coluna *largura_petala*. Note que a variação da coluna *largura_petala* e *largura_sepala* são quase as mesmas, porém a coluna *largura_sepala* apresenta a maior variação no 5º casa decimal.\n"
   ]
  },
  {
   "cell_type": "code",
   "execution_count": 2,
   "metadata": {},
   "outputs": [
    {
     "name": "stdout",
     "output_type": "stream",
     "text": [
      "  classification_column  variation\n",
      "0    comprimento_sepala        3.6\n",
      "1        largura_sepala        2.4\n",
      "2    comprimento_petala        5.9\n",
      "3        largura_petala        2.4\n"
     ]
    }
   ],
   "source": [
    "# percorre cada coluna com os dados de cada classe, subitrai o maior valor da coluna com o menor valor da coluna\n",
    "# o resultado será a variação de dado de cada coluna\n",
    "\n",
    "classification_columns = [{'classification_column': column, 'variation': df[column].max()-df[column].min()}\n",
    "                          for column in columns]\n",
    "\n",
    "# cria um novo dataframe com a variação de cada coluna\n",
    "variation = pd.DataFrame(data=classification_columns)\n",
    "print(variation)\n",
    "\n",
    "# ordena a lista 'classification_columns' através da chave 'variation' dos dicionários dentro dela\n",
    "# depois pega o valor da chave 'classification_column' do primeiro elemento da lista, que será a coluna com menor variação de dados\n",
    "classification_columns.sort(key=lambda x: x['variation'])\n",
    "classification_column = classification_columns[0].get('classification_column')\n"
   ]
  },
  {
   "cell_type": "markdown",
   "metadata": {},
   "source": [
    "## Média da coluna de classificação\n",
    "\n",
    "Agora, para cada classe, faz o cálculo da média de suas respectivas colunas **largura_petala**.\n",
    "\n",
    "Note que o método da média influencia na taxa de acerto no resultado final. Utilizando apenas a média comum, obteve-se uma taxa de acerto de 63,333%, contudo, ao se utilizar a média mediana, a taxa de acerto subiu para 76,0%.\n",
    "\n",
    "para observar essa mudança de resultado, substitua no bloco de código abaixo a função **median()** pela função **mean()**.\n",
    "Caso faça isso, Não esquecer de alterar manualmente as regras de classificação no bloco de código posterior.\n"
   ]
  },
  {
   "cell_type": "code",
   "execution_count": 3,
   "metadata": {},
   "outputs": [
    {
     "name": "stdout",
     "output_type": "stream",
     "text": [
      "   largura_petala           classe\n",
      "0             0.2      Iris-setosa\n",
      "1             1.3  Iris-versicolor\n",
      "2             2.0   Iris-virginica\n"
     ]
    }
   ],
   "source": [
    "# para cada coluna 'largura_petala' de cada classe, faz a média mediana de seus dados\n",
    "# depois disso, concatena a média com uma Serie, que possue os dados da classe daquele dado\n",
    "\n",
    "avg_list = [pd.concat([df[df['classe'] == classe][[classification_column]].median(\n",
    "), pd.Series([classe], index=['classe'])]) for classe in df['classe'].unique()]\n",
    "avg_df = pd.DataFrame(avg_list)\n",
    "\n",
    "print(avg_df)\n"
   ]
  },
  {
   "cell_type": "code",
   "execution_count": 4,
   "metadata": {},
   "outputs": [],
   "source": [
    "# regras para fazer a previsão do modelo conforme a média dos dados da coluna 'largura_petala'\n",
    "# caso tenha mudado a função de median() para mean(), adequar as regras no código a seguir\n",
    "\n",
    "# todas as larguras de pétalas menor que 1.3 possuem uma probabilidade de ser 'Iris-setosa'\n",
    "df.loc[df[classification_column] < 1.3, ['previsao']] = 'Iris-setosa'\n",
    "\n",
    "# todas as larguras de pétalas maior ou igual a 1.3 e menor que 2.0 possuem uma probabilidade de ser 'Iris-versicolor'\n",
    "df.loc[(df[classification_column] >= 1.3) & (\n",
    "    df[classification_column] < 2.0), ['previsao']] = 'Iris-versicolor'\n",
    "\n",
    "# todas as larguras de pétalas maior ou igual a 2.0 possuem uma probabilidade de ser 'Iris-virginica'\n",
    "df.loc[df[classification_column] >= 2.0, ['previsao']] = 'Iris-virginica'\n"
   ]
  },
  {
   "cell_type": "code",
   "execution_count": 5,
   "metadata": {},
   "outputs": [
    {
     "name": "stdout",
     "output_type": "stream",
     "text": [
      "\tTaxa de acerto: 76.0%\n"
     ]
    }
   ],
   "source": [
    "\n",
    "# taxa de acerto do modelo\n",
    "# verificando quais linhas da coluna 'previsao' são iguais da coluna 'classe', e exibindo a taxa de acerto\n",
    "\n",
    "df2 = df[df['classe'] == df['previsao']]\n",
    "rate = 100*(df2['previsao'].count()/df['classe'].count())\n",
    "\n",
    "print(f\"\\tTaxa de acerto: {rate}%\")\n"
   ]
  }
 ],
 "metadata": {
  "interpreter": {
   "hash": "71ca702da658273e6ea9a3edb792e0de5ca1d63c011ee28874cb33b04c75b925"
  },
  "kernelspec": {
   "display_name": "Python 3.10.2 64-bit",
   "language": "python",
   "name": "python3"
  },
  "language_info": {
   "codemirror_mode": {
    "name": "ipython",
    "version": 3
   },
   "file_extension": ".py",
   "mimetype": "text/x-python",
   "name": "python",
   "nbconvert_exporter": "python",
   "pygments_lexer": "ipython3",
   "version": "3.10.2"
  },
  "orig_nbformat": 4
 },
 "nbformat": 4,
 "nbformat_minor": 2
}
